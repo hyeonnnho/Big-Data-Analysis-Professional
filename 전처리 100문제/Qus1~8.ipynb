{
 "cells": [
  {
   "cell_type": "code",
   "execution_count": 1,
   "id": "51747053",
   "metadata": {},
   "outputs": [],
   "source": [
    "import pandas as pd"
   ]
  },
  {
   "cell_type": "code",
   "execution_count": 2,
   "id": "a553bda8",
   "metadata": {},
   "outputs": [],
   "source": [
    "df = pd.read_csv('https://raw.githubusercontent.com/Datamanim/pandas/main/lol.csv', sep='\\t')"
   ]
  },
  {
   "cell_type": "code",
   "execution_count": 6,
   "id": "558b5619",
   "metadata": {},
   "outputs": [
    {
     "name": "stdout",
     "output_type": "stream",
     "text": [
      "<bound method NDFrame.head of            gameId   creationTime  gameDuration  seasonId  winner  firstBlood  \\\n",
      "0      3326086514  1504279457970          1949         9       1           2   \n",
      "1      3229566029  1497848803862          1851         9       1           1   \n",
      "2      3327363504  1504360103310          1493         9       1           2   \n",
      "3      3326856598  1504348503996          1758         9       1           1   \n",
      "4      3330080762  1504554410899          2094         9       1           2   \n",
      "...           ...            ...           ...       ...     ...         ...   \n",
      "51485  3308904636  1503076540231          1944         9       2           1   \n",
      "51486  3215685759  1496957179355          3304         9       2           1   \n",
      "51487  3322765040  1504029863961          2156         9       2           2   \n",
      "51488  3256675373  1499562036246          1475         9       2           2   \n",
      "51489  3317333020  1503612754059          1445         9       1           1   \n",
      "\n",
      "       firstTower  firstInhibitor  firstBaron  firstDragon  ...  \\\n",
      "0               1               1           1            1  ...   \n",
      "1               1               1           0            1  ...   \n",
      "2               1               1           1            2  ...   \n",
      "3               1               1           1            1  ...   \n",
      "4               1               1           1            1  ...   \n",
      "...           ...             ...         ...          ...  ...   \n",
      "51485           2               2           0            2  ...   \n",
      "51486           1               2           2            2  ...   \n",
      "51487           2               2           0            1  ...   \n",
      "51488           2               2           0            2  ...   \n",
      "51489           1               1           1            2  ...   \n",
      "\n",
      "       t2_towerKills  t2_inhibitorKills  t2_baronKills  t2_dragonKills  \\\n",
      "0                  5                  0              0               1   \n",
      "1                  2                  0              0               0   \n",
      "2                  2                  0              0               1   \n",
      "3                  0                  0              0               0   \n",
      "4                  3                  0              0               1   \n",
      "...              ...                ...            ...             ...   \n",
      "51485             10                  2              0               4   \n",
      "51486             11                  7              4               4   \n",
      "51487             10                  2              0               2   \n",
      "51488             11                  3              0               1   \n",
      "51489              1                  0              0               1   \n",
      "\n",
      "       t2_riftHeraldKills  t2_ban1  t2_ban2  t2_ban3  t2_ban4  t2_ban5  \n",
      "0                       1      114       67       43       16       51  \n",
      "1                       0       11       67      238       51      420  \n",
      "2                       0      157      238      121       57       28  \n",
      "3                       0      164       18      141       40       51  \n",
      "4                       0       86       11      201      122       18  \n",
      "...                   ...      ...      ...      ...      ...      ...  \n",
      "51485                   0       55       -1       90      238      157  \n",
      "51486                   1      157       55      119      154      105  \n",
      "51487                   0      113      122       53       11      157  \n",
      "51488                   0      154       39       51       90      114  \n",
      "51489                   0       11      157      141       31       18  \n",
      "\n",
      "[51490 rows x 61 columns]>\n"
     ]
    }
   ],
   "source": [
    "print(df.head)"
   ]
  },
  {
   "cell_type": "code",
   "execution_count": 8,
   "id": "1aaada44",
   "metadata": {},
   "outputs": [
    {
     "data": {
      "text/plain": [
       "(51490, 61)"
      ]
     },
     "execution_count": 8,
     "metadata": {},
     "output_type": "execute_result"
    }
   ],
   "source": [
    "df.shape"
   ]
  },
  {
   "cell_type": "code",
   "execution_count": 10,
   "id": "81153589",
   "metadata": {},
   "outputs": [
    {
     "data": {
      "text/plain": [
       "Index(['gameId', 'creationTime', 'gameDuration', 'seasonId', 'winner',\n",
       "       'firstBlood', 'firstTower', 'firstInhibitor', 'firstBaron',\n",
       "       'firstDragon', 'firstRiftHerald', 't1_champ1id', 't1_champ1_sum1',\n",
       "       't1_champ1_sum2', 't1_champ2id', 't1_champ2_sum1', 't1_champ2_sum2',\n",
       "       't1_champ3id', 't1_champ3_sum1', 't1_champ3_sum2', 't1_champ4id',\n",
       "       't1_champ4_sum1', 't1_champ4_sum2', 't1_champ5id', 't1_champ5_sum1',\n",
       "       't1_champ5_sum2', 't1_towerKills', 't1_inhibitorKills', 't1_baronKills',\n",
       "       't1_dragonKills', 't1_riftHeraldKills', 't1_ban1', 't1_ban2', 't1_ban3',\n",
       "       't1_ban4', 't1_ban5', 't2_champ1id', 't2_champ1_sum1', 't2_champ1_sum2',\n",
       "       't2_champ2id', 't2_champ2_sum1', 't2_champ2_sum2', 't2_champ3id',\n",
       "       't2_champ3_sum1', 't2_champ3_sum2', 't2_champ4id', 't2_champ4_sum1',\n",
       "       't2_champ4_sum2', 't2_champ5id', 't2_champ5_sum1', 't2_champ5_sum2',\n",
       "       't2_towerKills', 't2_inhibitorKills', 't2_baronKills', 't2_dragonKills',\n",
       "       't2_riftHeraldKills', 't2_ban1', 't2_ban2', 't2_ban3', 't2_ban4',\n",
       "       't2_ban5'],\n",
       "      dtype='object')"
      ]
     },
     "execution_count": 10,
     "metadata": {},
     "output_type": "execute_result"
    }
   ],
   "source": [
    "df.columns"
   ]
  },
  {
   "cell_type": "code",
   "execution_count": 13,
   "id": "06b8ed13",
   "metadata": {},
   "outputs": [
    {
     "data": {
      "text/plain": [
       "'firstBlood'"
      ]
     },
     "execution_count": 13,
     "metadata": {},
     "output_type": "execute_result"
    }
   ],
   "source": [
    "df.columns[5]"
   ]
  },
  {
   "cell_type": "code",
   "execution_count": 29,
   "id": "b0aae00d",
   "metadata": {},
   "outputs": [
    {
     "data": {
      "text/plain": [
       "dtype('int64')"
      ]
     },
     "execution_count": 29,
     "metadata": {},
     "output_type": "execute_result"
    }
   ],
   "source": [
    "Ans = df.iloc[:,5].dtype\n",
    "Ans\n"
   ]
  },
  {
   "cell_type": "code",
   "execution_count": 30,
   "id": "90aa5780",
   "metadata": {},
   "outputs": [
    {
     "data": {
      "text/plain": [
       "0        2\n",
       "1        1\n",
       "2        2\n",
       "3        1\n",
       "4        2\n",
       "        ..\n",
       "51485    1\n",
       "51486    1\n",
       "51487    2\n",
       "51488    2\n",
       "51489    1\n",
       "Name: firstBlood, Length: 51490, dtype: int64"
      ]
     },
     "execution_count": 30,
     "metadata": {},
     "output_type": "execute_result"
    }
   ],
   "source": [
    "df.iloc[:,5]"
   ]
  },
  {
   "cell_type": "code",
   "execution_count": null,
   "id": "5dd8c94d",
   "metadata": {},
   "outputs": [
    {
     "data": {
      "text/plain": [
       "RangeIndex(start=0, stop=51490, step=1)"
      ]
     },
     "execution_count": 31,
     "metadata": {},
     "output_type": "execute_result"
    }
   ],
   "source": [
    "df.index"
   ]
  },
  {
   "cell_type": "code",
   "execution_count": 45,
   "id": "e0aa2653",
   "metadata": {},
   "outputs": [
    {
     "data": {
      "text/plain": [
       "np.int64(2)"
      ]
     },
     "execution_count": 45,
     "metadata": {},
     "output_type": "execute_result"
    }
   ],
   "source": [
    "df.iloc[2,5]"
   ]
  },
  {
   "cell_type": "code",
   "execution_count": 46,
   "id": "36b592b7",
   "metadata": {},
   "outputs": [
    {
     "data": {
      "text/plain": [
       "np.int64(2)"
      ]
     },
     "execution_count": 46,
     "metadata": {},
     "output_type": "execute_result"
    }
   ],
   "source": [
    "df.loc[2, 'firstBlood']"
   ]
  }
 ],
 "metadata": {
  "kernelspec": {
   "display_name": "Python 3",
   "language": "python",
   "name": "python3"
  },
  "language_info": {
   "codemirror_mode": {
    "name": "ipython",
    "version": 3
   },
   "file_extension": ".py",
   "mimetype": "text/x-python",
   "name": "python",
   "nbconvert_exporter": "python",
   "pygments_lexer": "ipython3",
   "version": "3.11.9"
  }
 },
 "nbformat": 4,
 "nbformat_minor": 5
}
