{
 "cells": [
  {
   "cell_type": "markdown",
   "id": "6a856bac",
   "metadata": {
    "id": "6a856bac"
   },
   "source": [
    "# 2유형\n",
    "\n",
    "- 데이터 EDA -> 전처리 -> 모델링 -> 평가 -> 파일 저장\n",
    "- 가이드 코드가 정해져 있음. 여러번 반복으로 플로우 암기하기\n",
    "- 분류 또는 회귀 모델링 진행 후 예측 데이터 저장\n",
    "    - 2회 : 분류 / roc_auc\n",
    "    - 3회 : 분류 / roc_auc\n",
    "    - 4회 : 분류 / f1-score\n",
    "    - 5회 : 회귀 / RMSE\n",
    "    - 6회 : 분류 / f1-score\n",
    "    - 7회 : 회귀 / rmse\n",
    "    - 8회 : 회귀 / mae\n",
    "    ```python\n",
    "    from sklearn.metrics import roc_auc_score, f1_score, mean_absolute_error, mean_squared_error\n",
    "    \n",
    "    # 모델에 대해 자체 평가를 할 때만 패키지 불러와서 확인\n",
    "    # 시험에서는 예측 결과 파일만 제출하고 평가는 진흥원이 알아서함\n",
    "    ```\n",
    "- 모델 예측 결과를 파일 저장 (df.to_csv()), 파일 형식에 따라 감점요소 있음\n",
    "    - 분류\n",
    "        - 레이블 예측 (predict)\n",
    "        - 확률 예측 (predict_proba)\n",
    "        \n",
    "    - 회귀\n",
    "    \n",
    "    ```python\n",
    "    from sklearn.ensemble import RandomForestClassifier , RandomForestRegressor\n",
    "    from xgboost import XGBRegressor, XGBClassifier\n",
    "    \n",
    "    rf = RandomForestClassifier()\n",
    "    rf.fit(x_train)\n",
    "    rf.predict(x_test) # 회귀, 분류 레이블\n",
    "    rf.predict_proba(x_test)[:,1] # 확률 예측\n",
    "    \n",
    "    \n",
    "    ```    \n",
    "    \n",
    "- 저장된 파일만으로 평가 (10점 단위)\n",
    "    ```python\n",
    "    predict = rf.predict(x_test)\n",
    "    predict_df = pd.DataFrame(predict,columns =['pred'])\n",
    "    predict_df.to_csv('result.csv',index=False)\n",
    "    \n",
    "    # 저장 후 데이터 불러와서 데이터 타입 print 해보기\n",
    "    \n",
    "    ```    \n",
    "    \n"
   ]
  },
  {
   "cell_type": "code",
   "execution_count": null,
   "id": "38a575ec",
   "metadata": {
    "id": "38a575ec"
   },
   "outputs": [],
   "source": []
  },
  {
   "cell_type": "markdown",
   "id": "5b18f254",
   "metadata": {
    "id": "5b18f254"
   },
   "source": [
    "# 데이터 EDA\n",
    "\n",
    "- 데이터 기본 정보 및 특이사항 파악\n",
    "- shape,describe , info, unique, nunique, isnull().sum(), select_dtypes"
   ]
  },
  {
   "cell_type": "code",
   "execution_count": 1,
   "id": "6bae3e37",
   "metadata": {
    "id": "6bae3e37"
   },
   "outputs": [],
   "source": [
    "train_url = 'https://raw.githubusercontent.com/Datamanim/datarepo/refs/heads/main/data/customer_train.csv'\n",
    "test_url  = 'https://raw.githubusercontent.com/Datamanim/datarepo/refs/heads/main/data/customer_test.csv'\n",
    "\n",
    "import pandas as pd\n",
    "\n",
    "train = pd.read_csv(train_url)\n",
    "test = pd.read_csv(test_url)"
   ]
  },
  {
   "cell_type": "markdown",
   "id": "cfc1fd7d",
   "metadata": {
    "id": "cfc1fd7d"
   },
   "source": [
    "# 전처리\n",
    "\n",
    "- 불필요 컬럼 제거\n",
    "- 결측치처리\n",
    "- 인코딩\n",
    "- 스케일링\n",
    "- 더미화\n",
    "- 독립변수, 종속변수 분리\n",
    "- 학습, 훈련 데이터 분할\n",
    "    - train, test"
   ]
  },
  {
   "cell_type": "code",
   "execution_count": 2,
   "id": "6ae8c538",
   "metadata": {
    "id": "6ae8c538"
   },
   "outputs": [
    {
     "name": "stderr",
     "output_type": "stream",
     "text": [
      "C:\\Users\\Admin\\AppData\\Local\\Temp\\ipykernel_15812\\1636056969.py:25: FutureWarning: Setting an item of incompatible dtype is deprecated and will raise in a future error of pandas. Value '[-0.14458009 -0.54918957 -0.5426996  ... -0.56179637 -0.55078606\n",
      "  1.04709431]' has dtype incompatible with int64, please explicitly cast to a compatible dtype first.\n",
      "  train_preprocessing.loc[:,['총구매액', '최대구매액', '방문일수', '방문당구매건수', '구매주기']] = transform_data\n",
      "C:\\Users\\Admin\\AppData\\Local\\Temp\\ipykernel_15812\\1636056969.py:25: FutureWarning: Setting an item of incompatible dtype is deprecated and will raise in a future error of pandas. Value '[-0.26260786 -0.54796686 -0.56350404 ... -0.61239772 -0.58348042\n",
      "  0.46792117]' has dtype incompatible with int64, please explicitly cast to a compatible dtype first.\n",
      "  train_preprocessing.loc[:,['총구매액', '최대구매액', '방문일수', '방문당구매건수', '구매주기']] = transform_data\n",
      "C:\\Users\\Admin\\AppData\\Local\\Temp\\ipykernel_15812\\1636056969.py:25: FutureWarning: Setting an item of incompatible dtype is deprecated and will raise in a future error of pandas. Value '[-0.00933767 -0.63500336 -0.63500336 ... -0.67180723 -0.63500336\n",
      "  0.68993576]' has dtype incompatible with int64, please explicitly cast to a compatible dtype first.\n",
      "  train_preprocessing.loc[:,['총구매액', '최대구매액', '방문일수', '방문당구매건수', '구매주기']] = transform_data\n",
      "C:\\Users\\Admin\\AppData\\Local\\Temp\\ipykernel_15812\\1636056969.py:25: FutureWarning: Setting an item of incompatible dtype is deprecated and will raise in a future error of pandas. Value '[-0.15996211 -0.80655356 -0.80655356 ... -0.84696552  0.72910114\n",
      " -0.5236698 ]' has dtype incompatible with int64, please explicitly cast to a compatible dtype first.\n",
      "  train_preprocessing.loc[:,['총구매액', '최대구매액', '방문일수', '방문당구매건수', '구매주기']] = transform_data\n"
     ]
    }
   ],
   "source": [
    "from sklearn.preprocessing import LabelEncoder\n",
    "remove_col = ['회원ID', '환불금액']\n",
    "\n",
    "train_preprocessing = train.copy()\n",
    "train_preprocessing = train_preprocessing.drop(columns = remove_col)\n",
    "test_preprocessing = test.copy()\n",
    "\n",
    "le = LabelEncoder()\n",
    "le.fit(train_preprocessing['주구매상품'])\n",
    "le_predict = le.fit_transform(train_preprocessing['주구매상품'])\n",
    "\n",
    "le2 = LabelEncoder()\n",
    "le2.fit(train_preprocessing['주구매지점'])\n",
    "le2_predict = le2.fit_transform(train_preprocessing['주구매지점'])\n",
    "\n",
    "train_preprocessing['주구매상품'] = le_predict\n",
    "train_preprocessing['주구매지점'] = le2_predict\n",
    "\n",
    "from sklearn.preprocessing import StandardScaler\n",
    "\n",
    "scaled_df = train_preprocessing[['총구매액', '최대구매액', '방문일수', '방문당구매건수', '구매주기']]\n",
    "sc = StandardScaler()\n",
    "sc.fit(scaled_df)\n",
    "transform_data = sc.fit_transform(scaled_df)\n",
    "train_preprocessing.loc[:,['총구매액', '최대구매액', '방문일수', '방문당구매건수', '구매주기']] = transform_data\n",
    "\n",
    "y = train_preprocessing['성별']\n",
    "x = train_preprocessing.drop(columns= ['성별'])\n",
    "\n",
    "from sklearn.model_selection import train_test_split\n",
    "\n",
    "X_train, X_val, y_train, y_val = train_test_split(x, y, train_size=0.7, random_state=42)\n"
   ]
  },
  {
   "cell_type": "code",
   "execution_count": 3,
   "id": "d3b1f641",
   "metadata": {},
   "outputs": [
    {
     "data": {
      "text/plain": [
       "1650    1\n",
       "2456    1\n",
       "2232    1\n",
       "1945    0\n",
       "309     0\n",
       "       ..\n",
       "2670    0\n",
       "1253    0\n",
       "801     1\n",
       "2112    0\n",
       "1374    0\n",
       "Name: 성별, Length: 1050, dtype: int64"
      ]
     },
     "execution_count": 3,
     "metadata": {},
     "output_type": "execute_result"
    }
   ],
   "source": [
    "y_val"
   ]
  },
  {
   "cell_type": "markdown",
   "id": "4ea24b86",
   "metadata": {
    "id": "4ea24b86"
   },
   "source": [
    "# 모델링\n",
    "- 회귀, 분류 확인하여 모델 선언\n",
    "- 학습데이터로 모델 학습\n",
    "    - (option) 그리드 서치로 최적 파라미터 선정 / 안해도 무관\n",
    "    - 랜포가 짱\n",
    "- 평가데이터에 대해 모델 예측"
   ]
  },
  {
   "cell_type": "code",
   "execution_count": 4,
   "id": "30ee7b87",
   "metadata": {
    "id": "30ee7b87"
   },
   "outputs": [],
   "source": [
    "from sklearn.ensemble import RandomForestClassifier\n",
    "rf = RandomForestClassifier(random_state=1)\n",
    "rf.fit(X_train, y_train) # 학습\n",
    "val_predict = rf.predict(X_val) # 예측\n",
    "val_predict_train = rf.predict(X_train) # 예측"
   ]
  },
  {
   "cell_type": "code",
   "execution_count": 5,
   "id": "89e7ab56",
   "metadata": {},
   "outputs": [],
   "source": [
    "from xgboost import XGBClassifier\n",
    "xgb = XGBClassifier()\n",
    "xgb.fit(X_train, y_train)\n",
    "val_xgb_predict = xgb.predict(X_val)"
   ]
  },
  {
   "cell_type": "markdown",
   "id": "fc2fac58",
   "metadata": {
    "id": "fc2fac58"
   },
   "source": [
    "# 평가"
   ]
  },
  {
   "cell_type": "code",
   "execution_count": 6,
   "id": "4d28aa96",
   "metadata": {
    "id": "4d28aa96"
   },
   "outputs": [
    {
     "data": {
      "text/plain": [
       "0.6066666666666667"
      ]
     },
     "execution_count": 6,
     "metadata": {},
     "output_type": "execute_result"
    }
   ],
   "source": [
    "from sklearn.metrics import accuracy_score\n",
    "accuracy_score(y_val, val_predict)\n",
    "accuracy_score(y_val, val_xgb_predict)"
   ]
  },
  {
   "cell_type": "code",
   "execution_count": 7,
   "id": "251a0a47",
   "metadata": {},
   "outputs": [
    {
     "data": {
      "text/plain": [
       "0.5613544939424087"
      ]
     },
     "execution_count": 7,
     "metadata": {},
     "output_type": "execute_result"
    }
   ],
   "source": [
    "from sklearn.metrics import roc_auc_score\n",
    "val_rf_proba = rf.predict_proba(X_val)\n",
    "roc_auc_score(y_val, val_rf_proba[:,1])\n",
    "roc_auc_score(y_val, val_xgb_predict)"
   ]
  },
  {
   "cell_type": "code",
   "execution_count": 10,
   "id": "19d5f398",
   "metadata": {},
   "outputs": [
    {
     "data": {
      "text/plain": [
       "0.3860759493670886"
      ]
     },
     "execution_count": 10,
     "metadata": {},
     "output_type": "execute_result"
    }
   ],
   "source": [
    "from sklearn.metrics import f1_score\n",
    "f1_score(y_train, val_predict_train)\n",
    "f1_score(y_val, val_predict)"
   ]
  },
  {
   "cell_type": "code",
   "execution_count": 13,
   "id": "de823c9c",
   "metadata": {},
   "outputs": [
    {
     "name": "stderr",
     "output_type": "stream",
     "text": [
      "C:\\Users\\Admin\\AppData\\Local\\Temp\\ipykernel_15812\\1396642587.py:26: FutureWarning: Setting an item of incompatible dtype is deprecated and will raise in a future error of pandas. Value '[-0.1739659   1.20976788  1.17934283 ...  0.91799171 -0.06950064\n",
      " -0.57977131]' has dtype incompatible with int64, please explicitly cast to a compatible dtype first.\n",
      "  test_preprocessing.loc[:,['총구매액', '최대구매액', '방문일수', '방문당구매건수', '구매주기']] = transform_data_test\n",
      "C:\\Users\\Admin\\AppData\\Local\\Temp\\ipykernel_15812\\1396642587.py:26: FutureWarning: Setting an item of incompatible dtype is deprecated and will raise in a future error of pandas. Value '[ 0.0065498   0.47906677 -0.19820375 ...  0.11356385 -0.10417407\n",
      " -0.6153017 ]' has dtype incompatible with int64, please explicitly cast to a compatible dtype first.\n",
      "  test_preprocessing.loc[:,['총구매액', '최대구매액', '방문일수', '방문당구매건수', '구매주기']] = transform_data_test\n",
      "C:\\Users\\Admin\\AppData\\Local\\Temp\\ipykernel_15812\\1396642587.py:26: FutureWarning: Setting an item of incompatible dtype is deprecated and will raise in a future error of pandas. Value '[-0.25095257  2.71415094  3.13773716 ... -0.01990554 -0.55901527\n",
      " -0.67453879]' has dtype incompatible with int64, please explicitly cast to a compatible dtype first.\n",
      "  test_preprocessing.loc[:,['총구매액', '최대구매액', '방문일수', '방문당구매건수', '구매주기']] = transform_data_test\n",
      "C:\\Users\\Admin\\AppData\\Local\\Temp\\ipykernel_15812\\1396642587.py:26: FutureWarning: Setting an item of incompatible dtype is deprecated and will raise in a future error of pandas. Value '[ 0.23705461 -0.71714786 -0.71714786 ... -0.0948419   1.64761479\n",
      "  0.44448993]' has dtype incompatible with int64, please explicitly cast to a compatible dtype first.\n",
      "  test_preprocessing.loc[:,['총구매액', '최대구매액', '방문일수', '방문당구매건수', '구매주기']] = transform_data_test\n"
     ]
    }
   ],
   "source": [
    "# test 테스트 데이터에 대해서도 평가를함\n",
    "# test 데이터를 train 데이터의 전처리과정과 동일하게 전처리 해줌\n",
    "from sklearn.preprocessing import LabelEncoder\n",
    "remove_col = ['회원ID', '환불금액']\n",
    "\n",
    "test_preprocessing = test.copy()\n",
    "test_preprocessing = test_preprocessing.drop(columns=remove_col)\n",
    "\n",
    "le = LabelEncoder()\n",
    "le.fit(test_preprocessing['주구매상품'])\n",
    "le_predict_test = le.fit_transform(test_preprocessing['주구매상품'])\n",
    "\n",
    "le2 = LabelEncoder()\n",
    "le2.fit(test_preprocessing['주구매지점'])\n",
    "le2_predict_test = le2.fit_transform(test_preprocessing['주구매지점'])\n",
    "\n",
    "test_preprocessing['주구매상품'] = le_predict_test\n",
    "test_preprocessing['주구매지점'] = le2_predict_test\n",
    "\n",
    "from sklearn.preprocessing import StandardScaler\n",
    "\n",
    "scaled_df_test = test_preprocessing[['총구매액', '최대구매액', '방문일수', '방문당구매건수', '구매주기']]\n",
    "sc = StandardScaler()\n",
    "sc.fit(scaled_df_test)\n",
    "transform_data_test = sc.fit_transform(scaled_df_test)\n",
    "test_preprocessing.loc[:,['총구매액', '최대구매액', '방문일수', '방문당구매건수', '구매주기']] = transform_data_test\n"
   ]
  },
  {
   "cell_type": "code",
   "execution_count": 14,
   "id": "dd1d698e",
   "metadata": {},
   "outputs": [],
   "source": [
    "rf_test_predict = rf.predict(test_preprocessing)\n",
    "xgb_test_predict = xgb.predict(test_preprocessing)"
   ]
  },
  {
   "cell_type": "code",
   "execution_count": 16,
   "id": "e5fe08c9",
   "metadata": {},
   "outputs": [],
   "source": [
    "rf_test_predict_proba = rf.predict_proba(test_preprocessing)[:,1]"
   ]
  },
  {
   "cell_type": "markdown",
   "id": "0ada0ab6",
   "metadata": {
    "id": "0ada0ab6"
   },
   "source": [
    "# 파일저장"
   ]
  },
  {
   "cell_type": "code",
   "execution_count": null,
   "id": "686ba352",
   "metadata": {
    "id": "686ba352"
   },
   "outputs": [],
   "source": [
    "predict_df = pd.DataFrame(rf_test_predict, columns=['pred'])\n",
    "predict_df.to_csv('result.csv', index=False)"
   ]
  }
 ],
 "metadata": {
  "colab": {
   "provenance": [
    {
     "file_id": "1K2FST8ILIKbAXSpz_1aqScu4WOCjH9kH",
     "timestamp": 1749011911162
    },
    {
     "file_id": "19otyqcCFBye_xm8htPbLbBnH052HgnXL",
     "timestamp": 1728903942188
    }
   ]
  },
  "kernelspec": {
   "display_name": "Python 3",
   "language": "python",
   "name": "python3"
  },
  "language_info": {
   "codemirror_mode": {
    "name": "ipython",
    "version": 3
   },
   "file_extension": ".py",
   "mimetype": "text/x-python",
   "name": "python",
   "nbconvert_exporter": "python",
   "pygments_lexer": "ipython3",
   "version": "3.11.9"
  }
 },
 "nbformat": 4,
 "nbformat_minor": 5
}
